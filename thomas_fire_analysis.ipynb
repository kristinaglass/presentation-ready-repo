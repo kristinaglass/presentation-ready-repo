{
 "cells": [
  {
   "cell_type": "markdown",
   "id": "4b9d4733-9d21-4088-b17c-fc4e44f49a2b",
   "metadata": {},
   "source": [
    "# Thomas Fire Analysis in Santa Barbabra, CA\n",
    " \n",
    "### By: Kristina Glass\n",
    "\n",
    "Link to GitHub Repository: https://github.com/kristinaglass/presentation-ready-repo\n"
   ]
  },
  {
   "cell_type": "markdown",
   "id": "6026d461-6a81-453b-ab05-111660855df7",
   "metadata": {},
   "source": [
    "# About\n",
    "\n",
    "## Purpose\n",
    "\n",
    "The purpose of this dataset is to explore the impacts of the Thomas Fire in Santa Barbara from December 4, 2017 – March 22, 2018. This dataset explore landcover imagry and air quality\n",
    "\n",
    "## Highlights of Analysis\n",
    "\n",
    "## Dataset Description and References\n",
    "\n",
    "The datasets used include:\n",
    "- [Air Quality Index (AQI)](https://www.airnow.gov/aqi/aqi-basics/) data from the [US Environmental Protection Agency](https://www.epa.gov)\n",
    "- A simplified Landsat raster collected by the Landsat 8 satellite \n",
    "- [A shapefile of fire perimeters in California during 2017 from the CA State Geoportal](https://gis.data.ca.gov/datasets/CALFIRE-Forestry::california-fire-perimeters-all-1/about)\n",
    "- [A subset of the US Census Bureau's 2016 TIGER database state boundary](https://data.ca.gov/dataset/ca-geographic-boundaries/resource/3db1e426-fb51-44f5-82d5-a54d7c6e188b)\n",
    "- And various  datasets included in a 'data' folder\n"
   ]
  },
  {
   "cell_type": "markdown",
   "id": "f92b171e-cfbf-4aa5-a327-1912393a8335",
   "metadata": {},
   "source": [
    "# Importing Data"
   ]
  },
  {
   "cell_type": "code",
   "execution_count": 1,
   "id": "24f8249f-0f01-4214-8b20-668968f40144",
   "metadata": {
    "tags": []
   },
   "outputs": [],
   "source": [
    "#import necessary datastes\n",
    "import pandas as pd\n",
    "import os\n",
    "import numpy as np\n",
    "\n",
    "import geopandas as gpd\n",
    "import xarray as xr\n",
    "import rioxarray as rioxr\n",
    "\n",
    "import matplotlib.pyplot as plt\n",
    "import matplotlib.patches as mpatches\n"
   ]
  },
  {
   "cell_type": "code",
   "execution_count": null,
   "id": "dd20b736-fcf4-4b4e-99ce-0fd05f372203",
   "metadata": {},
   "outputs": [],
   "source": []
  }
 ],
 "metadata": {
  "kernelspec": {
   "display_name": "Anaconda 3 (Base)",
   "language": "python",
   "name": "base"
  },
  "language_info": {
   "codemirror_mode": {
    "name": "ipython",
    "version": 3
   },
   "file_extension": ".py",
   "mimetype": "text/x-python",
   "name": "python",
   "nbconvert_exporter": "python",
   "pygments_lexer": "ipython3",
   "version": "3.9.13"
  }
 },
 "nbformat": 4,
 "nbformat_minor": 5
}
