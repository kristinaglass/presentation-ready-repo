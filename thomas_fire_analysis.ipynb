{
 "cells": [
  {
   "cell_type": "markdown",
   "id": "4b9d4733-9d21-4088-b17c-fc4e44f49a2b",
   "metadata": {},
   "source": [
    "# Thomas Fire Analysis in Santa Barbabra, CA\n",
    " \n",
    "### By: Kristina Glass\n",
    "\n",
    "Link to GitHub Repository: https://github.com/kristinaglass/presentation-ready-repo\n"
   ]
  },
  {
   "cell_type": "markdown",
   "id": "6026d461-6a81-453b-ab05-111660855df7",
   "metadata": {},
   "source": [
    "# About\n",
    "\n",
    "## Purpose\n",
    "\n",
    "The purpose of this dataset is to explore the impacts of the Thomas Fire in Santa Barbara from December 4, 2017 – March 22, 2018. This dataset explore landcover imagry and air quality\n",
    "\n",
    "## Highlights of Analysis\n",
    "\n",
    "## Dataset Description and References\n",
    "\n",
    "The datasets used include:\n",
    "- [Air Quality Index (AQI)](https://www.airnow.gov/aqi/aqi-basics/) data from the [US Environmental Protection Agency](https://www.epa.gov)\n",
    "- A simplified Landsat raster collected by the Landsat 8 satellite \n",
    "- [A shapefile of fire perimeters in California during 2017 from the CA State Geoportal](https://gis.data.ca.gov/datasets/CALFIRE-Forestry::california-fire-perimeters-all-1/about)\n",
    "- [A subset of the US Census Bureau's 2016 TIGER database state boundary](https://data.ca.gov/dataset/ca-geographic-boundaries/resource/3db1e426-fb51-44f5-82d5-a54d7c6e188b)\n",
    "- And various  datasets included in a 'data' folder\n"
   ]
  },
  {
   "cell_type": "markdown",
   "id": "f92b171e-cfbf-4aa5-a327-1912393a8335",
   "metadata": {},
   "source": [
    "# Importing Data"
   ]
  },
  {
   "cell_type": "code",
   "execution_count": 1,
   "id": "24f8249f-0f01-4214-8b20-668968f40144",
   "metadata": {
    "tags": []
   },
   "outputs": [],
   "source": [
    "#import necessary datastes\n",
    "import pandas as pd\n",
    "import os\n",
    "import numpy as np\n",
    "\n",
    "import geopandas as gpd\n",
    "import xarray as xr\n",
    "import rioxarray as rioxr\n",
    "\n",
    "import matplotlib.pyplot as plt\n",
    "import matplotlib.patches as mpatches\n"
   ]
  },
  {
   "cell_type": "markdown",
   "id": "e56c141c-0cbb-4c18-82e0-f9cccb916db8",
   "metadata": {},
   "source": [
    "## Exploring Air Quality Index (AQI)"
   ]
  },
  {
   "cell_type": "markdown",
   "id": "3d4480f1-8342-49b3-923f-130aabef976e",
   "metadata": {},
   "source": [
    "### Read in AQI Datasets"
   ]
  },
  {
   "cell_type": "code",
   "execution_count": 2,
   "id": "2907af8f-4a39-4a19-9cff-d4a23c35c06a",
   "metadata": {
    "tags": []
   },
   "outputs": [],
   "source": [
    "#read in 2017 and 2018 daily aqi by county\n",
    "aqi_17 = pd.read_csv(\"https://aqs.epa.gov/aqsweb/airdata/daily_aqi_by_county_2017.zip\")\n",
    "aqi_18 = pd.read_csv(\"https://aqs.epa.gov/aqsweb/airdata/daily_aqi_by_county_2018.zip\")"
   ]
  },
  {
   "cell_type": "markdown",
   "id": "4e2278b3-fd1f-416f-9d2a-9bce363e795e",
   "metadata": {},
   "source": [
    "### Data Exploration"
   ]
  },
  {
   "cell_type": "code",
   "execution_count": 6,
   "id": "ab8d19ce-be06-4a4e-854e-2a7c2bd7c2e7",
   "metadata": {
    "tags": []
   },
   "outputs": [
    {
     "name": "stdout",
     "output_type": "stream",
     "text": [
      "326801\n",
      "<class 'pandas.core.frame.DataFrame'>\n"
     ]
    }
   ],
   "source": [
    "#view number of objects in aqi_17\n",
    "print(len(aqi_17))\n",
    "\n",
    "#view type of aqi_18\n",
    "print(type(aqi_18))"
   ]
  },
  {
   "cell_type": "markdown",
   "id": "6a48af36-4665-4074-98e7-5771232db5ab",
   "metadata": {},
   "source": [
    "### Data Analysis"
   ]
  },
  {
   "cell_type": "code",
   "execution_count": 7,
   "id": "af028049-be09-4bb2-8834-eac62b12454f",
   "metadata": {
    "tags": []
   },
   "outputs": [
    {
     "name": "stdout",
     "output_type": "stream",
     "text": [
      "Index(['State Name', 'county Name', 'State Code', 'County Code', 'Date', 'AQI',\n",
      "       'Category', 'Defining Parameter', 'Defining Site',\n",
      "       'Number of Sites Reporting'],\n",
      "      dtype='object') \n",
      "\n",
      "Index(['state name', 'county name', 'state code', 'county code', 'date', 'aqi',\n",
      "       'category', 'defining parameter', 'defining site',\n",
      "       'number of sites reporting'],\n",
      "      dtype='object') \n",
      "\n",
      "Index(['state_name', 'county_name', 'state_code', 'county_code', 'date', 'aqi',\n",
      "       'category', 'defining_parameter', 'defining_site',\n",
      "       'number_of_sites_reporting'],\n",
      "      dtype='object')\n"
     ]
    }
   ],
   "source": [
    "#combine both datasets\n",
    "aqi = pd.concat([aqi_17, aqi_18])\n",
    "\n",
    "# initial column names: notice caps and spaces (difficult to work with!)\n",
    "print(aqi.columns, '\\n')\n",
    "\n",
    "# re-assign the column names - .str.lower() makes them lower case\n",
    "aqi.columns = aqi.columns.str.lower()\n",
    "print(aqi.columns, '\\n')\n",
    "\n",
    "#  re-assign the column names again - .str.replace(' ','_') replaces the space for _\n",
    "aqi.columns = aqi.columns.str.replace(' ','_')\n",
    "print(aqi.columns)"
   ]
  },
  {
   "cell_type": "code",
   "execution_count": 11,
   "id": "30cd3ba8-c2ce-40c7-b91c-96c04870ad0f",
   "metadata": {
    "tags": []
   },
   "outputs": [
    {
     "name": "stdout",
     "output_type": "stream",
     "text": [
      "date                         object\n",
      "aqi                           int64\n",
      "category                     object\n",
      "defining_parameter           object\n",
      "defining_site                object\n",
      "number_of_sites_reporting     int64\n",
      "dtype: object\n"
     ]
    }
   ],
   "source": [
    "#subset Santa Barbara County from data frame\n",
    "aqi_sb = aqi[aqi['county_name'] == \"Santa Barbara\"]\n",
    "#check new dataframe\n",
    "aqi_sb\n",
    "#remove state_name, county_name, state_code, and county_code\n",
    "aqi_sb = aqi_sb.drop(columns=[\"state_name\", \"county_name\", \"state_code\", \"county_code\"])\n",
    "#checking new data types\n",
    "print(aqi_sb.dtypes)"
   ]
  },
  {
   "cell_type": "code",
   "execution_count": 12,
   "id": "de610a42-6153-433a-91e6-c1a56a6a1c46",
   "metadata": {
    "tags": []
   },
   "outputs": [
    {
     "name": "stdout",
     "output_type": "stream",
     "text": [
      "DatetimeIndex(['2017-01-01', '2017-01-02', '2017-01-03', '2017-01-04',\n",
      "               '2017-01-05', '2017-01-06', '2017-01-07', '2017-01-08',\n",
      "               '2017-01-09', '2017-01-10',\n",
      "               ...\n",
      "               '2018-12-22', '2018-12-23', '2018-12-24', '2018-12-25',\n",
      "               '2018-12-26', '2018-12-27', '2018-12-28', '2018-12-29',\n",
      "               '2018-12-30', '2018-12-31'],\n",
      "              dtype='datetime64[ns]', name='date', length=730, freq=None)\n"
     ]
    }
   ],
   "source": [
    "#updating date column to datetime from object\n",
    "aqi_sb.date = pd.to_datetime(aqi_sb.date)\n",
    "#check column\n",
    "aqi_sb.dtypes\n",
    "#update index\n",
    "aqi_sb = aqi_sb.set_index(\"date\")\n",
    "# check if index updated\n",
    "print(aqi_sb.index)"
   ]
  },
  {
   "cell_type": "code",
   "execution_count": 13,
   "id": "f6b74ea8-6dfa-4d56-87eb-00a37bbe3de0",
   "metadata": {
    "tags": []
   },
   "outputs": [
    {
     "data": {
      "text/plain": [
       "date\n",
       "2017-01-01    39.000000\n",
       "2017-01-02    37.500000\n",
       "2017-01-03    48.666667\n",
       "2017-01-04    45.000000\n",
       "2017-01-05    43.400000\n",
       "                ...    \n",
       "2018-12-27    38.600000\n",
       "2018-12-28    38.600000\n",
       "2018-12-29    38.200000\n",
       "2018-12-30    37.800000\n",
       "2018-12-31    38.400000\n",
       "Name: aqi, Length: 730, dtype: float64"
      ]
     },
     "execution_count": 13,
     "metadata": {},
     "output_type": "execute_result"
    }
   ],
   "source": [
    "# calculate average over a rolling window\n",
    "# 5D indicates the window will be over 5 days\n",
    "aqi_sb.aqi.rolling('5D').mean()"
   ]
  },
  {
   "cell_type": "code",
   "execution_count": 14,
   "id": "6bfe251f-4bee-45a5-a3de-b5757962224e",
   "metadata": {
    "tags": []
   },
   "outputs": [],
   "source": [
    "# adding five day average column\n",
    "aqi_sb['five_day_average'] = aqi_sb.aqi.rolling('5D').mean()"
   ]
  },
  {
   "cell_type": "code",
   "execution_count": null,
   "id": "40472298-a213-443c-969d-d130914f2f02",
   "metadata": {},
   "outputs": [],
   "source": []
  }
 ],
 "metadata": {
  "kernelspec": {
   "display_name": "Anaconda 3 (Base)",
   "language": "python",
   "name": "base"
  },
  "language_info": {
   "codemirror_mode": {
    "name": "ipython",
    "version": 3
   },
   "file_extension": ".py",
   "mimetype": "text/x-python",
   "name": "python",
   "nbconvert_exporter": "python",
   "pygments_lexer": "ipython3",
   "version": "3.9.13"
  }
 },
 "nbformat": 4,
 "nbformat_minor": 5
}
